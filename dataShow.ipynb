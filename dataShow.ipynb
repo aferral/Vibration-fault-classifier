{
 "cells": [
  {
   "cell_type": "code",
   "execution_count": 21,
   "metadata": {
    "collapsed": false,
    "deletable": true,
    "editable": true
   },
   "outputs": [],
   "source": [
    "datasetFolder = \"data/MFPTFFT32\""
   ]
  },
  {
   "cell_type": "code",
   "execution_count": 22,
   "metadata": {
    "collapsed": true,
    "deletable": true,
    "editable": true
   },
   "outputs": [],
   "source": [
    "from dataset import Dataset\n",
    "import numpy as np\n",
    "import sklearn\n",
    "import matplotlib.pyplot as plt\n",
    "from collections import Counter\n",
    "import random\n",
    "import numpy as np\n",
    "from sklearn.decomposition import PCA\n",
    "import pandas\n",
    "import seaborn as sns\n",
    "\n",
    "from dataUtils import flatInput,getNewDataset,inverseNorm, processPca,\\\n",
    "    showDataplots,simplemethodsresults, pca2Visua, showRandomImages,showMeanstd\n",
    "\n",
    "\n",
    "%matplotlib inline"
   ]
  },
  {
   "cell_type": "code",
   "execution_count": 23,
   "metadata": {
    "collapsed": false,
    "deletable": true,
    "editable": true
   },
   "outputs": [
    {
     "ename": "OSError",
     "evalue": "[Errno 2] No such file or directory: 'data/MFPTFFT96'",
     "output_type": "error",
     "traceback": [
      "\u001b[0;31m---------------------------------------------------------------------------\u001b[0m",
      "\u001b[0;31mOSError\u001b[0m                                   Traceback (most recent call last)",
      "\u001b[0;32m<ipython-input-23-f917916649ef>\u001b[0m in \u001b[0;36m<module>\u001b[0;34m()\u001b[0m\n\u001b[0;32m----> 1\u001b[0;31m \u001b[0mflattenDataset\u001b[0m\u001b[0;34m,\u001b[0m \u001b[0mflatTest\u001b[0m\u001b[0;34m,\u001b[0m \u001b[0mfTrainLabels\u001b[0m\u001b[0;34m,\u001b[0m \u001b[0mfTestLabels\u001b[0m\u001b[0;34m,\u001b[0m\u001b[0mdataset\u001b[0m \u001b[0;34m=\u001b[0m \u001b[0mgetNewDataset\u001b[0m\u001b[0;34m(\u001b[0m\u001b[0mdatasetFolder\u001b[0m\u001b[0;34m,\u001b[0m\u001b[0mseed\u001b[0m\u001b[0;34m=\u001b[0m\u001b[0;36m1\u001b[0m\u001b[0;34m)\u001b[0m\u001b[0;34m\u001b[0m\u001b[0m\n\u001b[0m\u001b[1;32m      2\u001b[0m \u001b[0mnClases\u001b[0m \u001b[0;34m=\u001b[0m \u001b[0mdataset\u001b[0m\u001b[0;34m.\u001b[0m\u001b[0mgetNclasses\u001b[0m\u001b[0;34m(\u001b[0m\u001b[0;34m)\u001b[0m\u001b[0;34m\u001b[0m\u001b[0m\n",
      "\u001b[0;32m/home/andres/PycharmProjects/tensorFlowExp/dataUtils.pyc\u001b[0m in \u001b[0;36mgetNewDataset\u001b[0;34m(datasetFolder, seed)\u001b[0m\n\u001b[1;32m    220\u001b[0m         \u001b[0mseed\u001b[0m \u001b[0;34m=\u001b[0m \u001b[0mint\u001b[0m\u001b[0;34m(\u001b[0m\u001b[0;36m100\u001b[0m \u001b[0;34m*\u001b[0m \u001b[0mrandom\u001b[0m\u001b[0;34m.\u001b[0m\u001b[0mrandom\u001b[0m\u001b[0;34m(\u001b[0m\u001b[0;34m)\u001b[0m\u001b[0;34m)\u001b[0m\u001b[0;34m\u001b[0m\u001b[0m\n\u001b[1;32m    221\u001b[0m     \u001b[0;31m#Changing the seed will give a new train-val-test split\u001b[0m\u001b[0;34m\u001b[0m\u001b[0;34m\u001b[0m\u001b[0m\n\u001b[0;32m--> 222\u001b[0;31m     \u001b[0mdataset\u001b[0m \u001b[0;34m=\u001b[0m \u001b[0mDataset\u001b[0m\u001b[0;34m(\u001b[0m\u001b[0mdatasetFolder\u001b[0m\u001b[0;34m,\u001b[0m \u001b[0mbatch_size\u001b[0m\u001b[0;34m=\u001b[0m\u001b[0;36m20\u001b[0m\u001b[0;34m,\u001b[0m\u001b[0mseed\u001b[0m\u001b[0;34m=\u001b[0m\u001b[0mseed\u001b[0m\u001b[0;34m)\u001b[0m\u001b[0;34m\u001b[0m\u001b[0m\n\u001b[0m\u001b[1;32m    223\u001b[0m     \u001b[0mflattenDataset\u001b[0m\u001b[0;34m,\u001b[0m \u001b[0mflatTest\u001b[0m\u001b[0;34m,\u001b[0m \u001b[0mfTrainLabels\u001b[0m\u001b[0;34m,\u001b[0m \u001b[0mfTestLabels\u001b[0m \u001b[0;34m=\u001b[0m \u001b[0mflatInput\u001b[0m\u001b[0;34m(\u001b[0m\u001b[0mdataset\u001b[0m\u001b[0;34m.\u001b[0m\u001b[0mtrain_data\u001b[0m\u001b[0;34m,\u001b[0m \u001b[0mdataset\u001b[0m\u001b[0;34m.\u001b[0m\u001b[0mtrain_labels\u001b[0m\u001b[0;34m,\u001b[0m \u001b[0mdataset\u001b[0m\u001b[0;34m.\u001b[0m\u001b[0mtest_data\u001b[0m\u001b[0;34m,\u001b[0m \u001b[0mdataset\u001b[0m\u001b[0;34m.\u001b[0m\u001b[0mtest_labels\u001b[0m\u001b[0;34m)\u001b[0m\u001b[0;34m\u001b[0m\u001b[0m\n\u001b[1;32m    224\u001b[0m     \u001b[0;32mreturn\u001b[0m \u001b[0mflattenDataset\u001b[0m\u001b[0;34m,\u001b[0m \u001b[0mflatTest\u001b[0m\u001b[0;34m,\u001b[0m \u001b[0mfTrainLabels\u001b[0m\u001b[0;34m,\u001b[0m \u001b[0mfTestLabels\u001b[0m\u001b[0;34m,\u001b[0m \u001b[0mdataset\u001b[0m\u001b[0;34m\u001b[0m\u001b[0m\n",
      "\u001b[0;32m/home/andres/PycharmProjects/tensorFlowExp/dataset.pyc\u001b[0m in \u001b[0;36m__init__\u001b[0;34m(self, dataFolder, batch_size, testProp, validation_proportion, seed)\u001b[0m\n\u001b[1;32m     36\u001b[0m         \u001b[0mall\u001b[0m \u001b[0;34m=\u001b[0m \u001b[0;34m[\u001b[0m\u001b[0;34m]\u001b[0m\u001b[0;34m\u001b[0m\u001b[0m\n\u001b[1;32m     37\u001b[0m         \u001b[0mallL\u001b[0m \u001b[0;34m=\u001b[0m \u001b[0;34m[\u001b[0m\u001b[0;34m]\u001b[0m\u001b[0;34m\u001b[0m\u001b[0m\n\u001b[0;32m---> 38\u001b[0;31m         \u001b[0mfileList\u001b[0m \u001b[0;34m=\u001b[0m \u001b[0menumerate\u001b[0m\u001b[0;34m(\u001b[0m\u001b[0mos\u001b[0m\u001b[0;34m.\u001b[0m\u001b[0mlistdir\u001b[0m\u001b[0;34m(\u001b[0m\u001b[0mdataFolder\u001b[0m\u001b[0;34m)\u001b[0m\u001b[0;34m)\u001b[0m\u001b[0;34m\u001b[0m\u001b[0m\n\u001b[0m\u001b[1;32m     39\u001b[0m \u001b[0;34m\u001b[0m\u001b[0m\n\u001b[1;32m     40\u001b[0m         \u001b[0msupImage\u001b[0m \u001b[0;34m=\u001b[0m \u001b[0;34m[\u001b[0m\u001b[0;34m\"jpg\"\u001b[0m\u001b[0;34m,\u001b[0m \u001b[0;34m'png'\u001b[0m\u001b[0;34m]\u001b[0m\u001b[0;34m\u001b[0m\u001b[0m\n",
      "\u001b[0;31mOSError\u001b[0m: [Errno 2] No such file or directory: 'data/MFPTFFT96'"
     ]
    }
   ],
   "source": [
    "flattenDataset, flatTest, fTrainLabels, fTestLabels,dataset = getNewDataset(datasetFolder,seed=1)\n",
    "nClases = dataset.getNclasses()"
   ]
  },
  {
   "cell_type": "code",
   "execution_count": null,
   "metadata": {
    "collapsed": true,
    "deletable": true,
    "editable": true
   },
   "outputs": [],
   "source": []
  },
  {
   "cell_type": "code",
   "execution_count": null,
   "metadata": {
    "collapsed": false,
    "deletable": true,
    "editable": true
   },
   "outputs": [],
   "source": [
    "pca = PCA(n_components=2)\n",
    "pca.fit(flattenDataset)\n",
    "\n",
    "print \"Distribution of data \"\n",
    "print dataset.classDistribution()\n",
    "\n",
    "pca2Visua(pca,flattenDataset,fTrainLabels,nClases)\n",
    "pca2Visua(pca,flatTest,fTestLabels,nClases)"
   ]
  },
  {
   "cell_type": "code",
   "execution_count": null,
   "metadata": {
    "collapsed": false,
    "deletable": true,
    "editable": true
   },
   "outputs": [],
   "source": [
    "#Show first 1 images train and 1 image test (to show that seed changed)\n",
    "\n",
    "#------------------TRAIN IAMGE\n",
    "fname = dataset.getTrainFilename(0)\n",
    "print \"Train image \",fname\n",
    "\n",
    "imTrain =   flattenDataset[0].reshape((96,96))\n",
    "\n",
    "fig, grid = plt.subplots(1, 2)\n",
    "grid[0].set_title(fname+' train 0 ')\n",
    "grid[0].imshow(imTrain)\n",
    "\n",
    "#REMEMBER THE IMAGES IN THE DATASET ARE NORMALIZED \n",
    "#THIS WILL INVERT THE TRANSFORMATION (will be the same as original)\n",
    "org = inverseNorm(imTrain,dataset)\n",
    "\n",
    "grid[1].set_title(fname+' train 0 or ')\n",
    "grid[1].imshow(org)\n",
    "\n",
    "#------------------TEST IAMGE\n",
    "\n",
    "\n",
    "fname = dataset.getTestFilename(0)\n",
    "print \"Test image \",fname\n",
    "imgTest =   flatTest[0].reshape((96,96))\n",
    "\n",
    "fig, grid = plt.subplots(1, 2)\n",
    "grid[0].set_title(fname+' test 0 ')\n",
    "grid[0].imshow(imgTest)\n",
    "\n",
    "#REMEMBER THE IMAGES IN THE DATASET ARE NORMALIZED \n",
    "#THIS WILL INVERT THE TRANSFORMATION (will be the same as original)\n",
    "org = inverseNorm(imgTest,dataset)\n",
    "\n",
    "grid[1].set_title(fname+' tes 0 or ')\n",
    "grid[1].imshow(org)"
   ]
  },
  {
   "cell_type": "code",
   "execution_count": null,
   "metadata": {
    "collapsed": false,
    "deletable": true,
    "editable": true
   },
   "outputs": [],
   "source": [
    "with sns.axes_style(\"white\"):\n",
    "    sns.set(rc={'image.cmap': \"viridis\"})\n",
    "    showRandomImages(dataset,toShow=5)"
   ]
  },
  {
   "cell_type": "code",
   "execution_count": null,
   "metadata": {
    "collapsed": false,
    "deletable": true,
    "editable": true
   },
   "outputs": [],
   "source": [
    "with sns.axes_style(\"white\"):\n",
    "    sns.set(rc={'image.cmap': \"viridis\"})\n",
    "    showMeanstd(dataset)"
   ]
  },
  {
   "cell_type": "code",
   "execution_count": null,
   "metadata": {
    "collapsed": false,
    "deletable": true,
    "editable": true
   },
   "outputs": [],
   "source": [
    "dx,dtestx,ltrain,ltest = processPca(flattenDataset,flatTest,fTrainLabels,fTestLabels)\n",
    "showDataplots(dx,ltrain)"
   ]
  },
  {
   "cell_type": "code",
   "execution_count": null,
   "metadata": {
    "collapsed": true,
    "deletable": true,
    "editable": true
   },
   "outputs": [],
   "source": [
    "from sklearn.cluster import MiniBatchKMeans\n",
    "\n",
    "\n",
    "def processCluster(flattenDataset,flatTest,fTrainLabels,fTestLabels):\n",
    "    # Compute clustering with MiniBatchKMeans.\n",
    "    mbk = MiniBatchKMeans(init='k-means++', n_clusters=5, batch_size=100,\n",
    "                          n_init=10, max_no_improvement=10, verbose=0,\n",
    "                          random_state=0)\n",
    "    mbk.fit(flattenDataset)\n",
    "    \n",
    "    dataKmTrainX = mbk.transform(flattenDataset)\n",
    "    dataKmTrainy = fTrainLabels\n",
    "    \n",
    "    dataKmTestX = mbk.transform(flatTest)\n",
    "    dataKmTesty = fTestLabels\n",
    "    \n",
    "    return dataKmTrainX,dataKmTestX,dataKmTrainy,dataKmTesty"
   ]
  },
  {
   "cell_type": "code",
   "execution_count": null,
   "metadata": {
    "collapsed": false,
    "deletable": true,
    "editable": true
   },
   "outputs": [],
   "source": [
    "dx,dtestx,ltrain,ltest = processCluster(flattenDataset,flatTest,fTrainLabels,fTestLabels)\n",
    "\n",
    "showDataplots(dx,ltrain)"
   ]
  },
  {
   "cell_type": "code",
   "execution_count": null,
   "metadata": {
    "collapsed": true,
    "deletable": true,
    "editable": true
   },
   "outputs": [],
   "source": []
  },
  {
   "cell_type": "code",
   "execution_count": 45,
   "metadata": {
    "collapsed": false,
    "deletable": true,
    "editable": true
   },
   "outputs": [
    {
     "name": "stdout",
     "output_type": "stream",
     "text": [
      "Results for raw data in models\n",
      "Results: \n",
      "MLP accuracy mean  1.0  std  0.0\n",
      "Linear SVM accuracy mean  0.993939393939  std  0.00857099128711\n",
      "SVM accuracy mean  1.0  std  0.0\n"
     ]
    }
   ],
   "source": [
    "print \"Results for raw data in models\"\n",
    "#Limited to 500 points because of high dims\n",
    "transform = lambda x,y,z,w : (x,y,z,w)\n",
    "simplemethodsresults(datasetFolder,transform,limitPoints=500)"
   ]
  },
  {
   "cell_type": "code",
   "execution_count": 46,
   "metadata": {
    "collapsed": false,
    "deletable": true,
    "editable": true
   },
   "outputs": [
    {
     "name": "stdout",
     "output_type": "stream",
     "text": [
      "Results for cluster data in models\n"
     ]
    },
    {
     "ename": "NameError",
     "evalue": "name 'processCluster' is not defined",
     "output_type": "error",
     "traceback": [
      "\u001b[0;31m\u001b[0m",
      "\u001b[0;31mNameError\u001b[0mTraceback (most recent call last)",
      "\u001b[0;32m<ipython-input-46-478ef2ef5d2a>\u001b[0m in \u001b[0;36m<module>\u001b[0;34m()\u001b[0m\n\u001b[1;32m      1\u001b[0m \u001b[0;32mprint\u001b[0m \u001b[0;34m\"Results for cluster data in models\"\u001b[0m\u001b[0;34m\u001b[0m\u001b[0m\n\u001b[0;32m----> 2\u001b[0;31m \u001b[0msimplemethodsresults\u001b[0m\u001b[0;34m(\u001b[0m\u001b[0mdatasetFolder\u001b[0m\u001b[0;34m,\u001b[0m\u001b[0mprocessCluster\u001b[0m\u001b[0;34m,\u001b[0m\u001b[0mlimitPoints\u001b[0m\u001b[0;34m=\u001b[0m\u001b[0mNone\u001b[0m\u001b[0;34m)\u001b[0m\u001b[0;34m\u001b[0m\u001b[0m\n\u001b[0m",
      "\u001b[0;31mNameError\u001b[0m: name 'processCluster' is not defined"
     ]
    }
   ],
   "source": [
    "print \"Results for cluster data in models\"\n",
    "simplemethodsresults(datasetFolder,processCluster,limitPoints=None)"
   ]
  },
  {
   "cell_type": "code",
   "execution_count": 48,
   "metadata": {
    "collapsed": false,
    "deletable": true,
    "editable": true
   },
   "outputs": [
    {
     "name": "stdout",
     "output_type": "stream",
     "text": [
      "Results for raw data in models\n",
      "Results: \n",
      "MLP accuracy mean  1.0  std  0.0\n",
      "Linear SVM accuracy mean  1.0  std  0.0\n",
      "SVM accuracy mean  0.70303030303  std  0.00857099128711\n"
     ]
    }
   ],
   "source": [
    "print \"Results for cluster in models\"\n",
    "simplemethodsresults(datasetFolder,processPca,limitPoints=None)"
   ]
  }
 ],
 "metadata": {
  "kernelspec": {
   "display_name": "Python 2",
   "language": "python",
   "name": "python2"
  },
  "language_info": {
   "codemirror_mode": {
    "name": "ipython",
    "version": 2
   },
   "file_extension": ".py",
   "mimetype": "text/x-python",
   "name": "python",
   "nbconvert_exporter": "python",
   "pygments_lexer": "ipython2",
   "version": "2.7.6"
  }
 },
 "nbformat": 4,
 "nbformat_minor": 0
}
