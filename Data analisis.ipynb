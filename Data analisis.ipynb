{
 "cells": [
  {
   "cell_type": "code",
   "execution_count": 1,
   "metadata": {
    "collapsed": false
   },
   "outputs": [],
   "source": [
    "from dataset import Dataset\n",
    "import numpy as np\n",
    "import sklearn\n",
    "import matplotlib.pyplot as plt\n",
    "import cv2\n",
    "from collections import Counter\n",
    "%matplotlib inline"
   ]
  },
  {
   "cell_type": "code",
   "execution_count": 2,
   "metadata": {
    "collapsed": false
   },
   "outputs": [
    {
     "name": "stderr",
     "output_type": "stream",
     "text": [
      "dataset.py:86: RuntimeWarning: invalid value encountered in divide\n",
      "  self.train_data = np.array([   (im-self.mean)/self.std for im in self.train_data])\n",
      "dataset.py:87: RuntimeWarning: invalid value encountered in divide\n",
      "  self.validation_data = np.array([   (im-self.mean)/self.std for im in self.validation_data])\n",
      "dataset.py:88: RuntimeWarning: invalid value encountered in divide\n",
      "  self.test_data =  np.array([   (im-self.mean)/self.std for im in self.test_data])\n",
      "dataset.py:88: RuntimeWarning: divide by zero encountered in divide\n",
      "  self.test_data =  np.array([   (im-self.mean)/self.std for im in self.test_data])\n"
     ]
    }
   ],
   "source": [
    "dataset = Dataset(\"data/Scalograms\", batch_size=20)"
   ]
  },
  {
   "cell_type": "code",
   "execution_count": 3,
   "metadata": {
    "collapsed": false
   },
   "outputs": [],
   "source": [
    "trainX = dataset.train_data\n",
    "trainY = dataset.train_labels\n",
    "\n",
    "\n",
    "tx = dataset.test_data\n",
    "ty = dataset.test_labels\n",
    "\n",
    "#Flatten data for test images as a vector and labels as numbers\n",
    "flattenDataset =np.nan_to_num( np.array([image.flatten() for image in trainX]))\n",
    "flatTest =np.nan_to_num( np.array([image.flatten() for image in tx]))\n",
    "fTrainLabels = np.where(trainY == 1)[1]\n",
    "fTestLabels = np.where(ty == 1)[1]"
   ]
  },
  {
   "cell_type": "code",
   "execution_count": 5,
   "metadata": {
    "collapsed": false,
    "scrolled": true
   },
   "outputs": [
    {
     "name": "stdout",
     "output_type": "stream",
     "text": [
      "Distribution class for train  Counter({1: 1504, 0: 405})\n",
      "Pca with 5 components explained variance [ 0.14945972  0.04889618]\n",
      "PCA 2 comp of the data (using train)\n"
     ]
    },
    {
     "data": {
      "text/plain": [
       "<matplotlib.collections.PathCollection at 0x7faf742364d0>"
      ]
     },
     "execution_count": 5,
     "metadata": {},
     "output_type": "execute_result"
    },
    {
     "data": {
      "image/png": "[encoded data removed]",
      "text/plain": [
       "<matplotlib.figure.Figure at 0x7faf7430ded0>"
      ]
     },
     "metadata": {},
     "output_type": "display_data"
    }
   ],
   "source": [
    "import numpy as np\n",
    "from sklearn.decomposition import PCA\n",
    "pca = PCA(n_components=2)\n",
    "\n",
    "\n",
    "\n",
    "\n",
    "#Show a few statistics of the data\n",
    "print \"Distribution class for train \",Counter(fTrainLabels)\n",
    "pca.fit(flattenDataset)\n",
    "print  \"Pca with 5 components explained variance \"+str(pca.explained_variance_ratio_) \n",
    "print \"PCA 2 comp of the data (using train)\"\n",
    "\n",
    "zero_class = np.where(fTrainLabels == 0)\n",
    "one_class = np.where(fTrainLabels == 1)\n",
    "\n",
    "tranfTrain = pca.transform(flattenDataset)\n",
    "\n",
    "plt.figure()\n",
    "plt.scatter(tranfTrain[zero_class, 0], tranfTrain[zero_class, 1], s=160, edgecolors='b',\n",
    "           facecolors='none', linewidths=2, label='Class 0')\n",
    "plt.scatter(tranfTrain[one_class, 0], tranfTrain[one_class, 1], s=80, edgecolors='orange',\n",
    "           facecolors='none', linewidths=2, label='Class 1')\n",
    "\n",
    "\n",
    "\n",
    "# print \"Distribution class for test   \",Counter(fTestLabels)\n",
    "# pca.fit(flatTest)\n",
    "# print  \"Pca with 5 components explained variance \"+str(pca.explained_variance_ratio_) \n",
    "# print \"PCA 2 comp of the data (using test)\"\n",
    "\n",
    "# zero_class = np.where(fTestLabels == 0)\n",
    "# one_class = np.where(fTestLabels == 1)\n",
    "# transfTest = pca.transform(flatTest)\n",
    "\n",
    "# plt.figure()\n",
    "# plt.scatter(transfTest[zero_class, 0], transfTest[zero_class, 1], s=160, edgecolors='b',\n",
    "#            facecolors='none', linewidths=2, label='Class 0')\n",
    "# plt.scatter(transfTest[one_class, 0], transfTest[one_class, 1], s=80, edgecolors='orange',\n",
    "#            facecolors='none', linewidths=2, label='Class 1')"
   ]
  },
  {
   "cell_type": "code",
   "execution_count": null,
   "metadata": {
    "collapsed": false
   },
   "outputs": [],
   "source": [
    "#The mean image is the mean of all original images in the dataset\n",
    "#As part of the preprocessing all images are normalized (substract mean and div for standar deviation) \n",
    "#For an image this means to substract pixelwise with the mean image and div pixelwise with the std image\n",
    "\n",
    "#This meanNorm is not the mean image (the mean image is database.mean) this meanNorm is the mean of the images\n",
    "#already normalized so it has units of std (standar deviaton).\n",
    "\n",
    "meanNorm = np.mean(trainX,axis=0)\n",
    "for row in meanNorm:\n",
    "    print row"
   ]
  },
  {
   "cell_type": "code",
   "execution_count": null,
   "metadata": {
    "collapsed": false
   },
   "outputs": [],
   "source": [
    "plt.imshow(meanNorm)"
   ]
  },
  {
   "cell_type": "code",
   "execution_count": null,
   "metadata": {
    "collapsed": false
   },
   "outputs": [],
   "source": [
    "#As a test i try to clasify the data using a SVM (support vector machine) of the sklearn package \n",
    "\n",
    "from sklearn.svm import SVC\n",
    "from sklearn.metrics import classification_report\n",
    "clf = SVC()\n",
    "\n",
    "\n",
    "clf.fit(flattenDataset, fTrainLabels) \n",
    "pred = clf.predict(flatTest)\n",
    "print classification_report(fTestLabels, pred)"
   ]
  },
  {
   "cell_type": "code",
   "execution_count": null,
   "metadata": {
    "collapsed": true
   },
   "outputs": [],
   "source": []
  }
 ],
 "metadata": {
  "kernelspec": {
   "display_name": "Python 2",
   "language": "python",
   "name": "python2"
  },
  "language_info": {
   "codemirror_mode": {
    "name": "ipython",
    "version": 2
   },
   "file_extension": ".py",
   "mimetype": "text/x-python",
   "name": "python",
   "nbconvert_exporter": "python",
   "pygments_lexer": "ipython2",
   "version": "2.7.6"
  }
 },
 "nbformat": 4,
 "nbformat_minor": 0
}
